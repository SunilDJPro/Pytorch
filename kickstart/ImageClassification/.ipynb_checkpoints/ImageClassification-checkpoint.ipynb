{
 "cells": [
  {
   "cell_type": "markdown",
   "id": "e5ab422d",
   "metadata": {},
   "source": [
    "Refer https://www.learnpytorch.io for further concepts on PyTorch"
   ]
  },
  {
   "cell_type": "code",
   "execution_count": 1,
   "id": "bead8fb9",
   "metadata": {},
   "outputs": [],
   "source": [
    "import torch\n",
    "import torch.nn as nn\n",
    "import torch.optim as optim\n",
    "import torch.utils.data\n",
    "import torch.nn.functional as F\n",
    "import torchvision\n",
    "\n",
    "from torchvision import transforms\n",
    "\n",
    "from PIL import Image, ImageFile\n",
    "\n",
    "ImageFile.LOAD_TRUNCATED_IMAGES=True"
   ]
  },
  {
   "cell_type": "code",
   "execution_count": 2,
   "id": "c1ea73f7",
   "metadata": {},
   "outputs": [
    {
     "name": "stdout",
     "output_type": "stream",
     "text": [
      "True\n"
     ]
    }
   ],
   "source": [
    "print(torch.cuda.is_available())"
   ]
  },
  {
   "cell_type": "code",
   "execution_count": null,
   "id": "d6d9e516",
   "metadata": {},
   "outputs": [
    {
     "name": "stdout",
     "output_type": "stream",
     "text": [
      "Creating directory ./train/cat\n",
      "Creating directory ./train/fish\n",
      "Creating directory ./test/cat\n",
      "Creating directory ./test/fish\n",
      "Creating directory ./val/cat\n",
      "Creating directory ./val/fish\n",
      "Downloading 1393 images\n",
      "Error downloading http://farm1.static.flickr.com/1/1004525_cba96ba3c3.jpg\n",
      "Error downloading http://farm1.static.flickr.com/33/65048097_e5264bf855.jpg\n",
      "Error downloading http://farm3.static.flickr.com/2354/2102976081_61c8614be8.jpg\n",
      "Error downloading http://farm2.static.flickr.com/1390/709949156_5e4ac3f499.jpg\n",
      "Error downloading http://farm1.static.flickr.com/81/243007380_feda8c8a4c.jpg\n",
      "Error downloading http://farm2.static.flickr.com/1221/1011749126_44a195db4c.jpg\n",
      "Error downloading http://farm1.static.flickr.com/173/416994740_6ada308baa.jpg\n",
      "Error downloading http://farm1.static.flickr.com/3/4193130_a058cdb81f.jpg\n",
      "Error downloading http://farm1.static.flickr.com/1/1004528_a111209743.jpg\n",
      "Error downloading http://farm1.static.flickr.com/60/174732335_7275892317.jpg\n"
     ]
    }
   ],
   "source": [
    "!python3 download.py"
   ]
  },
  {
   "cell_type": "code",
   "execution_count": null,
   "id": "9b0b1cab",
   "metadata": {},
   "outputs": [],
   "source": []
  }
 ],
 "metadata": {
  "kernelspec": {
   "display_name": "Python 3 (ipykernel)",
   "language": "python",
   "name": "python3"
  },
  "language_info": {
   "codemirror_mode": {
    "name": "ipython",
    "version": 3
   },
   "file_extension": ".py",
   "mimetype": "text/x-python",
   "name": "python",
   "nbconvert_exporter": "python",
   "pygments_lexer": "ipython3",
   "version": "3.10.12"
  }
 },
 "nbformat": 4,
 "nbformat_minor": 5
}
